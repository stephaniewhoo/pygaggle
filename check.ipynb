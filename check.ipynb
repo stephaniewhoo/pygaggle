{
 "cells": [
  {
   "cell_type": "code",
   "execution_count": 1,
   "metadata": {
    "ExecuteTime": {
     "end_time": "2020-11-23T15:38:48.823751Z",
     "start_time": "2020-11-23T15:38:48.507359Z"
    }
   },
   "outputs": [
    {
     "name": "stdout",
     "output_type": "stream",
     "text": [
      "<class 'pandas.core.frame.DataFrame'>\n",
      "RangeIndex: 105000 entries, 0 to 104999\n",
      "Data columns (total 4 columns):\n",
      " #   Column  Non-Null Count   Dtype  \n",
      "---  ------  --------------   -----  \n",
      " 0   qid     105000 non-null  int64  \n",
      " 1   pid     105000 non-null  int64  \n",
      " 2   rank    105000 non-null  int64  \n",
      " 3   score   105000 non-null  float64\n",
      "dtypes: float64(1), int64(3)\n",
      "memory usage: 3.2 MB\n",
      "None\n"
     ]
    }
   ],
   "source": [
    "import pandas as pd\n",
    "run=pd.read_csv('runs/run.monobert.ans_small.dev.trec',sep='\\t',header=None,\n",
    "                names=['qid','q0','pid','rank','score','tag'], usecols=['qid','pid','rank','score'])\n",
    "print(run.info())"
   ]
  },
  {
   "cell_type": "code",
   "execution_count": 2,
   "metadata": {
    "ExecuteTime": {
     "end_time": "2020-11-23T15:38:49.975177Z",
     "start_time": "2020-11-23T15:38:48.827824Z"
    }
   },
   "outputs": [
    {
     "name": "stderr",
     "output_type": "stream",
     "text": [
      "105000it [00:00, 132638.16it/s]\n"
     ]
    },
    {
     "name": "stdout",
     "output_type": "stream",
     "text": [
      "(105000, 1024)\n"
     ]
    }
   ],
   "source": [
    "import numpy as np\n",
    "from tqdm import tqdm\n",
    "qidpid2idx = {}\n",
    "array = []\n",
    "with open('runs/run.monobert.ans_small.dev.bin','rb') as f:\n",
    "    for line in tqdm(run.itertuples()):\n",
    "        qidpid2idx[(line.qid,line.pid)]=len(array)\n",
    "        array.append(np.frombuffer(f.read(1024*4),np.float32))\n",
    "array=np.vstack(array)\n",
    "print(array.shape)"
   ]
  },
  {
   "cell_type": "code",
   "execution_count": 3,
   "metadata": {
    "ExecuteTime": {
     "end_time": "2020-11-23T15:38:53.270562Z",
     "start_time": "2020-11-23T15:38:49.977194Z"
    }
   },
   "outputs": [
    {
     "data": {
      "text/plain": [
       "(tensor([[-0.6464, -0.9506,  1.0000,  ..., -0.2989,  0.8946, -0.8920],\n",
       "         [-0.9502, -0.9819,  1.0000,  ..., -0.4000,  0.9394, -0.7937],\n",
       "         [-0.9691, -0.9796,  1.0000,  ..., -0.6041,  0.9558, -0.8120],\n",
       "         ...,\n",
       "         [-0.8519, -0.8650, -0.9892,  ...,  0.4534, -0.8864,  0.7240],\n",
       "         [-0.8595, -0.8771, -0.9916,  ...,  0.4298, -0.9025,  0.7257],\n",
       "         [-0.8435, -0.8753, -0.9861,  ...,  0.4049, -0.8895,  0.7152]],\n",
       "        device='cuda:0'),\n",
       " tensor([[9.9722e-01, 2.7757e-03],\n",
       "         [9.9180e-01, 8.1974e-03],\n",
       "         [9.8871e-01, 1.1288e-02],\n",
       "         ...,\n",
       "         [8.1602e-06, 9.9999e-01],\n",
       "         [8.1043e-06, 9.9999e-01],\n",
       "         [8.1000e-06, 9.9999e-01]], device='cuda:0'))"
      ]
     },
     "execution_count": 3,
     "metadata": {},
     "output_type": "execute_result"
    }
   ],
   "source": [
    "import torch\n",
    "X = torch.FloatTensor(array).cuda()\n",
    "Y = torch.exp(torch.FloatTensor(run.score.values)).unsqueeze(-1)\n",
    "Y = torch.cat((Y,1-Y),dim=1).cuda()\n",
    "X,Y"
   ]
  },
  {
   "cell_type": "code",
   "execution_count": 52,
   "metadata": {
    "ExecuteTime": {
     "end_time": "2020-11-23T16:07:18.043102Z",
     "start_time": "2020-11-23T16:07:15.134200Z"
    },
    "scrolled": false
   },
   "outputs": [
    {
     "name": "stdout",
     "output_type": "stream",
     "text": [
      "0.023394381627440453 0.013968189246952534\n",
      "0.021132873371243477 0.012683595530688763\n",
      "0.019474785774946213 0.011692256666719913\n",
      "0.01929115317761898 0.011531731113791466\n",
      "0.01922936923801899 0.011475265957415104\n",
      "0.01920214854180813 0.011444511823356152\n",
      "0.019190602004528046 0.011429235339164734\n",
      "0.01918530836701393 0.011421655304729939\n",
      "0.019182439893484116 0.011417590081691742\n",
      "0.019180577248334885 0.011415163055062294\n",
      "0.019179215654730797 0.01141355186700821\n",
      "0.019178174436092377 0.011412392370402813\n",
      "0.019177371636033058 0.011411515064537525\n",
      "0.01917676255106926 0.011410841718316078\n",
      "0.019176315516233444 0.011410340666770935\n",
      "0.019176004454493523 0.011409984901547432\n",
      "0.019175808876752853 0.011409755796194077\n",
      "0.019175700843334198 0.011409630998969078\n",
      "0.019175661727786064 0.011409582570195198\n",
      "0.019175656139850616 0.011409573256969452\n"
     ]
    }
   ],
   "source": [
    "class classification(torch.nn.Module):\n",
    "    def __init__(self):\n",
    "        super(classification, self).__init__()\n",
    "        self.output = torch.nn.Sequential(torch.nn.Linear(1024,16),\n",
    "#                                           torch.nn.BatchNorm1d(64),\n",
    "                                          torch.nn.GELU(),\n",
    "#                                           torch.nn.Dropout(p=0.1),\n",
    "                                          torch.nn.Linear(16,2))\n",
    "        self.prob = torch.nn.LogSoftmax(dim=1)\n",
    "        \n",
    "    def forward(self, X, Y):\n",
    "        loss=(-Y*self.prob(self.output(X))).sum(dim=1).mean()\n",
    "        return loss\n",
    "\n",
    "train_X, dev_X = X[:5000,:], X[5000:,:]\n",
    "train_Y, dev_Y = Y[:5000,:], Y[5000:,:]\n",
    "model = classification().cuda()\n",
    "optim = torch.optim.AdamW(model.parameters())\n",
    "scheduler = torch.optim.lr_scheduler.OneCycleLR(optim, max_lr=0.01, steps_per_epoch=1000, epochs=1)\n",
    "model.train()\n",
    "for i in range(1000):\n",
    "    optim.zero_grad()\n",
    "    loss=model(train_X,train_Y)\n",
    "    if (i+1)%50 == 0:\n",
    "        model.eval()\n",
    "        print(model(train_X,train_Y).item(),model(dev_X,dev_Y).item())\n",
    "        model.train()\n",
    "    loss.backward()\n",
    "    optim.step()\n",
    "    scheduler.step()"
   ]
  },
  {
   "cell_type": "code",
   "execution_count": 57,
   "metadata": {
    "ExecuteTime": {
     "end_time": "2020-11-23T16:10:46.729801Z",
     "start_time": "2020-11-23T16:10:44.541697Z"
    }
   },
   "outputs": [
    {
     "name": "stdout",
     "output_type": "stream",
     "text": [
      "[6.04988444e-01 2.78767412e-01 3.75153636e-02 2.25193828e-02\n",
      " 1.12964815e-02 6.94657920e-03 5.08627865e-03 3.77529854e-03\n",
      " 3.33865184e-03 2.18388423e-03 2.06981816e-03 1.80349524e-03\n",
      " 1.30467676e-03 1.02710134e-03 7.79518108e-04 7.35097953e-04\n",
      " 7.08278784e-04 5.85514473e-04 5.30644356e-04 5.10878017e-04\n",
      " 4.44775372e-04 3.95509345e-04 3.64871610e-04 3.49403639e-04\n",
      " 3.00046191e-04 2.80978830e-04 2.73770155e-04 2.60689833e-04\n",
      " 2.32596061e-04 2.23599177e-04 2.04460042e-04 1.87807033e-04]\n",
      "[0.60498844 0.88375586 0.92127122 0.9437906  0.95508708 0.96203366\n",
      " 0.96711994 0.97089524 0.97423389 0.97641778 0.97848759 0.98029109\n",
      " 0.98159577 0.98262287 0.98340239 0.98413748 0.98484576 0.98543128\n",
      " 0.98596192 0.9864728  0.98691758 0.98731308 0.98767796 0.98802736\n",
      " 0.98832741 0.98860838 0.98888215 0.98914284 0.98937544 0.98959904\n",
      " 0.9898035  0.98999131]\n",
      "[3076.399    2088.2866    766.0792    593.5364    420.3787    329.65115\n",
      "  282.07797   243.02153   228.53603   184.83487   179.9431    167.96802\n",
      "  142.86327   126.75811   110.428764  107.236275  105.2619     95.70573\n",
      "   91.111015   89.39798    83.4141     78.65883    75.55081    73.93206\n",
      "   68.51145    66.298836   65.44284    63.86033    60.321243   59.143116\n",
      "   56.5553     54.203213]\n"
     ]
    }
   ],
   "source": [
    "from sklearn.decomposition import PCA\n",
    "pca = PCA(n_components=32)\n",
    "pca.fit(X.cpu().numpy())\n",
    "print(pca.explained_variance_ratio_)\n",
    "print(np.cumsum(pca.explained_variance_ratio_))\n",
    "print(pca.singular_values_)"
   ]
  },
  {
   "cell_type": "code",
   "execution_count": null,
   "metadata": {},
   "outputs": [],
   "source": []
  }
 ],
 "metadata": {
  "hide_input": false,
  "kernelspec": {
   "display_name": "Python 3",
   "language": "python",
   "name": "python3"
  },
  "language_info": {
   "codemirror_mode": {
    "name": "ipython",
    "version": 3
   },
   "file_extension": ".py",
   "mimetype": "text/x-python",
   "name": "python",
   "nbconvert_exporter": "python",
   "pygments_lexer": "ipython3",
   "version": "3.8.3"
  }
 },
 "nbformat": 4,
 "nbformat_minor": 4
}
